{
 "cells": [
  {
   "cell_type": "code",
   "execution_count": 97,
   "id": "8b791872-5c3c-4e7e-a18d-1e613c461c1d",
   "metadata": {},
   "outputs": [
    {
     "name": "stdout",
     "output_type": "stream",
     "text": [
      "Neil Armstrong! On July 20, 1969, Neil Armstrong became the first person to set foot on the moon, famously declaring \"That's one small step for man, one giant leap for mankind\" as he stepped off the lunar module Eagle onto the moon's surface.\n"
     ]
    }
   ],
   "source": [
    "from langchain_groq import ChatGroq\n",
    "\n",
    "llm = ChatGroq(\n",
    "    temperature=0, \n",
    "    groq_api_key='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', \n",
    "    model_name=\"llama3-70b-8192\"\n",
    ")\n",
    "\n",
    "response = llm.invoke(\"The first person to land on the moon was ...\")\n",
    "print(response.content)\n"
   ]
  },
  {
   "cell_type": "code",
   "execution_count": 98,
   "id": "394c3cea-e082-4673-af88-f864c364e527",
   "metadata": {},
   "outputs": [
    {
     "name": "stdout",
     "output_type": "stream",
     "text": [
      "Software Engineer II, ITC Skip to main content Open Virtual Assistant Home Career Areas Total Rewards Life@Nike Purpose Language Select a Language Deutsch English Español (España) Español (América Latina) Français Italiano Nederlands Polski Tiếng Việt Türkçe 简体中文 繁體中文 한국어 日本語 Careers Close Menu Careers Chat Home Career Areas Total Rewards Life@Nike Purpose Jordan Careers Converse Careers Language Menu Return to Previous Menu Select a Language Deutsch English Español (España) Español (América Latina) Français Italiano Nederlands Polski Tiếng Việt Türkçe 简体中文 繁體中文 한국어 日本語 Back to Search Software Engineer II, ITC Categories ID Categories URL Position Type Date Posted Primary Quest ID Second Quest ID Job Classification Career area Technology Location 4/F, WeWork, Embassy GolfLinks, Karnataka, Karnataka 560093, India Job ID R-51399 Apply Now Share Job Share Job Posting Facebook Opens In A New Tab LinkedIn Link Opens In New Window Email Close-Medium (Default Size)-icon Close Menu Become a Part of the NIKE, Inc. Team NIKE, Inc. does more than outfit the world’s best athletes. It is a place to explore potential, obliterate boundaries and push out the edges of what can be. The company looks for people who can grow, think, dream and create. Its culture thrives by embracing diversity and rewarding imagination. The brand seeks achievers, leaders and visionaries. At NIKE, Inc. it’s about each person bringing skills and passion to a challenging and constantly evolving game. WHO YOU’LL WORK WITHYou will be a part of the Global Technology organization, and report to the Engineering Manager. You will work day-to-day with your peer software engineers, product management and architecture on product teams to achieve business objectives. You will also engage with other Global Technology functions and teams on organizational and technical goals.WHO WE ARE LOOKING FORWe are looking for an ambitious Software Engineer with a passion for cloud-native development and platform ownership. If You are someone who thrives in a collaborative environment, is excited by innovative technology, and excels at problem-solving. Should be able to explain details to both technical and non-technical stakeholders and operate with urgency and integrity.Bachelor’s degree in computer science or engineering, Information Systems, or similar field.2-5+ years of hands-on industry software development experience.3+ years of hands-on work experience in Nodejs.Very strong expertise in microservice architecture, domain-driven design, Service Oriented Architecture principles and RESTful APIsExperience in designing and building serverless architectures.Good understanding of architectural design patterns and frameworks with strong computer-science fundamentals.Exposure to data governance, data quality and data life cycle management.Working knowledge on all aspects of Cloud native distributed system development. AWS preferredExperience with Dev Ops and CI/CD automation, Zero Touch deploymentsWell versed in TDD methodologies and the enabling tools and technologies – Jest or Night watch or Cucumber, etc.Excellent verbal and written communication and collaborations skills to effectively communicate with both technical and business-facing teams.Demonstrated experience of working with a multidisciplinary team while also being able to work independently. Experience working across time zones would be a plus.Experience with Scrum or similar Agile methodologies.A track record of working with ambiguity and getting things done in a fast-paced, ever-evolving environment.WHAT YOU’LL WORK ONAs a Software Engineer II, you will:Design, develop, and maintain scalable and efficient applications using Node.js.Utilize AWS services to build and deploy cloud-based solutions.Implement Agile methodologies to ensure iterative and incremental development.Develop and maintain CI/CD pipelines to automate the build, test, and deployment processes.Write and maintain unit test cases to ensure code quality and reliability.Collaborate with the design team to create user-friendly and visually appealing interfaces.Monitor application performance and implement improvements as needed.Troubleshoot and resolve technical issues across the full stack.Mentor and guide junior developers, providing technical leadership and code reviews.Stay up-to-date with the latest industry trends and technologies to ensure the team is using the best practices. NIKE, Inc. is a growth company that looks for team members to grow with it. Nike offers a generous total rewards package, casual work environment, a diverse and inclusive culture, and an electric atmosphere for professional development. No matter the location, or the role, every Nike employee shares one galvanizing mission: To bring inspiration and innovation to every athlete* in the world. NIKE, Inc. is an equal opportunity employer. Qualified applicants will receive consideration without regard to race, color, religion, sex, national origin, age, sexual orientation, gender identity, gender expression, veteran status, or disability. Apply Now Share Job Share Job Posting Faceboox Opens In A New Tab LinkedIn Link Opens In New Window Email Close-Medium (Default Size)-icon Close Menu What You Can Expect OUR HIRING GAME PLAN 01 Apply Our teams are made up of diverse skillsets, knowledge bases, inputs, ideas and backgrounds. We want you to find your fit – review job descriptions, departments and teams to discover the role for you. 02 Meet a Recruiter or Take an Assessment If selected for a corporate role, a recruiter will reach out to start your interview process and be your main contact throughout the process. For retail roles, you’ll complete an interactive assessment that includes a chat and quizzes and takes about 10-20 minutes to complete. No matter the role, we want to learn about you – the whole you – so don’t shy away from how you approach world-class service and what makes you unique. 03 Interview Go into this stage confident by doing your research, understanding what we are looking for and being prepared for questions that are set up to learn more about you, and your background. Home About Us Contact Talent Community Terms Nike Applicant Privacy Policy We offer a number of accommodations to complete our interview process including screen readers, sign language interpreters, accessible and single location for in-person interviews, closed captioning, and other reasonable modifications as needed. If you discover, as you navigate our application process, that you need assistance or an accommodation due to a disability, please contact us at +1 503-671-4156 and include your full name, best way to reach you, and the accommodation you request to assist with the application process. For more information, please refer to Equal Employment Opportunity is The Law. © Nike, Inc. All Rights Reserved Careers Chat Chat with our AI Assistant\n"
     ]
    }
   ],
   "source": [
    "import re\n",
    "from langchain_community.document_loaders import WebBaseLoader\n",
    "\n",
    "# Load the page content\n",
    "loader = WebBaseLoader(\"https://careers.nike.com/software-engineer-ii-itc/job/R-51399\")\n",
    "page_data = loader.load().pop().page_content\n",
    "\n",
    "# Remove excessive spaces, newlines, and tabs\n",
    "cleaned_text = re.sub(r'\\s+', ' ', page_data).strip()\n",
    "\n",
    "print(cleaned_text)\n"
   ]
  },
  {
   "cell_type": "code",
   "execution_count": 99,
   "id": "e57d1220-5554-484b-a63a-7eaf820ad9c5",
   "metadata": {},
   "outputs": [
    {
     "name": "stdout",
     "output_type": "stream",
     "text": [
      "Requirement already satisfied: langchain-community in c:\\users\\likhith\\appdata\\local\\programs\\python\\python39\\lib\\site-packages (0.3.17)\n",
      "Requirement already satisfied: groq in c:\\users\\likhith\\appdata\\local\\programs\\python\\python39\\lib\\site-packages (0.18.0)\n",
      "Requirement already satisfied: langchain-core<1.0.0,>=0.3.34 in c:\\users\\likhith\\appdata\\local\\programs\\python\\python39\\lib\\site-packages (from langchain-community) (0.3.34)\n",
      "Requirement already satisfied: langchain<1.0.0,>=0.3.18 in c:\\users\\likhith\\appdata\\local\\programs\\python\\python39\\lib\\site-packages (from langchain-community) (0.3.18)\n",
      "Requirement already satisfied: SQLAlchemy<3,>=1.4 in c:\\users\\likhith\\appdata\\local\\programs\\python\\python39\\lib\\site-packages (from langchain-community) (2.0.37)\n",
      "Requirement already satisfied: requests<3,>=2 in c:\\users\\likhith\\appdata\\local\\programs\\python\\python39\\lib\\site-packages (from langchain-community) (2.31.0)\n",
      "Requirement already satisfied: PyYAML>=5.3 in c:\\users\\likhith\\appdata\\local\\programs\\python\\python39\\lib\\site-packages (from langchain-community) (6.0.1)\n",
      "Requirement already satisfied: aiohttp<4.0.0,>=3.8.3 in c:\\users\\likhith\\appdata\\local\\programs\\python\\python39\\lib\\site-packages (from langchain-community) (3.11.12)\n",
      "Requirement already satisfied: tenacity!=8.4.0,<10,>=8.1.0 in c:\\users\\likhith\\appdata\\local\\programs\\python\\python39\\lib\\site-packages (from langchain-community) (9.0.0)\n",
      "Requirement already satisfied: dataclasses-json<0.7,>=0.5.7 in c:\\users\\likhith\\appdata\\local\\programs\\python\\python39\\lib\\site-packages (from langchain-community) (0.6.7)\n",
      "Requirement already satisfied: pydantic-settings<3.0.0,>=2.4.0 in c:\\users\\likhith\\appdata\\local\\programs\\python\\python39\\lib\\site-packages (from langchain-community) (2.7.1)\n",
      "Requirement already satisfied: langsmith<0.4,>=0.1.125 in c:\\users\\likhith\\appdata\\local\\programs\\python\\python39\\lib\\site-packages (from langchain-community) (0.3.8)\n",
      "Requirement already satisfied: httpx-sse<1.0.0,>=0.4.0 in c:\\users\\likhith\\appdata\\local\\programs\\python\\python39\\lib\\site-packages (from langchain-community) (0.4.0)\n",
      "Requirement already satisfied: numpy<2,>=1.26.4 in c:\\users\\likhith\\appdata\\local\\programs\\python\\python39\\lib\\site-packages (from langchain-community) (1.26.4)\n",
      "Requirement already satisfied: anyio<5,>=3.5.0 in c:\\users\\likhith\\appdata\\local\\programs\\python\\python39\\lib\\site-packages (from groq) (4.3.0)\n",
      "Requirement already satisfied: distro<2,>=1.7.0 in c:\\users\\likhith\\appdata\\local\\programs\\python\\python39\\lib\\site-packages (from groq) (1.9.0)\n",
      "Requirement already satisfied: httpx<1,>=0.23.0 in c:\\users\\likhith\\appdata\\local\\programs\\python\\python39\\lib\\site-packages (from groq) (0.27.0)\n",
      "Requirement already satisfied: pydantic<3,>=1.9.0 in c:\\users\\likhith\\appdata\\local\\programs\\python\\python39\\lib\\site-packages (from groq) (2.7.4)\n",
      "Requirement already satisfied: sniffio in c:\\users\\likhith\\appdata\\local\\programs\\python\\python39\\lib\\site-packages (from groq) (1.3.1)\n",
      "Requirement already satisfied: typing-extensions<5,>=4.10 in c:\\users\\likhith\\appdata\\local\\programs\\python\\python39\\lib\\site-packages (from groq) (4.10.0)\n",
      "Requirement already satisfied: aiohappyeyeballs>=2.3.0 in c:\\users\\likhith\\appdata\\local\\programs\\python\\python39\\lib\\site-packages (from aiohttp<4.0.0,>=3.8.3->langchain-community) (2.4.4)\n",
      "Requirement already satisfied: aiosignal>=1.1.2 in c:\\users\\likhith\\appdata\\local\\programs\\python\\python39\\lib\\site-packages (from aiohttp<4.0.0,>=3.8.3->langchain-community) (1.3.2)\n",
      "Requirement already satisfied: async-timeout<6.0,>=4.0 in c:\\users\\likhith\\appdata\\local\\programs\\python\\python39\\lib\\site-packages (from aiohttp<4.0.0,>=3.8.3->langchain-community) (4.0.3)\n",
      "Requirement already satisfied: attrs>=17.3.0 in c:\\users\\likhith\\appdata\\local\\programs\\python\\python39\\lib\\site-packages (from aiohttp<4.0.0,>=3.8.3->langchain-community) (23.2.0)\n",
      "Requirement already satisfied: frozenlist>=1.1.1 in c:\\users\\likhith\\appdata\\local\\programs\\python\\python39\\lib\\site-packages (from aiohttp<4.0.0,>=3.8.3->langchain-community) (1.5.0)\n",
      "Requirement already satisfied: multidict<7.0,>=4.5 in c:\\users\\likhith\\appdata\\local\\programs\\python\\python39\\lib\\site-packages (from aiohttp<4.0.0,>=3.8.3->langchain-community) (6.1.0)\n",
      "Requirement already satisfied: propcache>=0.2.0 in c:\\users\\likhith\\appdata\\local\\programs\\python\\python39\\lib\\site-packages (from aiohttp<4.0.0,>=3.8.3->langchain-community) (0.2.1)\n",
      "Requirement already satisfied: yarl<2.0,>=1.17.0 in c:\\users\\likhith\\appdata\\local\\programs\\python\\python39\\lib\\site-packages (from aiohttp<4.0.0,>=3.8.3->langchain-community) (1.18.3)\n",
      "Requirement already satisfied: idna>=2.8 in c:\\users\\likhith\\appdata\\local\\programs\\python\\python39\\lib\\site-packages (from anyio<5,>=3.5.0->groq) (3.6)\n",
      "Requirement already satisfied: exceptiongroup>=1.0.2 in c:\\users\\likhith\\appdata\\local\\programs\\python\\python39\\lib\\site-packages (from anyio<5,>=3.5.0->groq) (1.2.0)\n",
      "Requirement already satisfied: marshmallow<4.0.0,>=3.18.0 in c:\\users\\likhith\\appdata\\local\\programs\\python\\python39\\lib\\site-packages (from dataclasses-json<0.7,>=0.5.7->langchain-community) (3.26.1)\n",
      "Requirement already satisfied: typing-inspect<1,>=0.4.0 in c:\\users\\likhith\\appdata\\local\\programs\\python\\python39\\lib\\site-packages (from dataclasses-json<0.7,>=0.5.7->langchain-community) (0.9.0)\n",
      "Requirement already satisfied: certifi in c:\\users\\likhith\\appdata\\local\\programs\\python\\python39\\lib\\site-packages (from httpx<1,>=0.23.0->groq) (2024.2.2)\n",
      "Requirement already satisfied: httpcore==1.* in c:\\users\\likhith\\appdata\\local\\programs\\python\\python39\\lib\\site-packages (from httpx<1,>=0.23.0->groq) (1.0.4)\n",
      "Requirement already satisfied: h11<0.15,>=0.13 in c:\\users\\likhith\\appdata\\local\\programs\\python\\python39\\lib\\site-packages (from httpcore==1.*->httpx<1,>=0.23.0->groq) (0.14.0)\n",
      "Requirement already satisfied: langchain-text-splitters<1.0.0,>=0.3.6 in c:\\users\\likhith\\appdata\\local\\programs\\python\\python39\\lib\\site-packages (from langchain<1.0.0,>=0.3.18->langchain-community) (0.3.6)\n",
      "Requirement already satisfied: jsonpatch<2.0,>=1.33 in c:\\users\\likhith\\appdata\\local\\programs\\python\\python39\\lib\\site-packages (from langchain-core<1.0.0,>=0.3.34->langchain-community) (1.33)\n",
      "Requirement already satisfied: packaging<25,>=23.2 in c:\\users\\likhith\\appdata\\local\\programs\\python\\python39\\lib\\site-packages (from langchain-core<1.0.0,>=0.3.34->langchain-community) (24.2)\n",
      "Requirement already satisfied: orjson<4.0.0,>=3.9.14 in c:\\users\\likhith\\appdata\\local\\programs\\python\\python39\\lib\\site-packages (from langsmith<0.4,>=0.1.125->langchain-community) (3.10.15)\n",
      "Requirement already satisfied: requests-toolbelt<2.0.0,>=1.0.0 in c:\\users\\likhith\\appdata\\local\\programs\\python\\python39\\lib\\site-packages (from langsmith<0.4,>=0.1.125->langchain-community) (1.0.0)\n",
      "Requirement already satisfied: zstandard<0.24.0,>=0.23.0 in c:\\users\\likhith\\appdata\\local\\programs\\python\\python39\\lib\\site-packages (from langsmith<0.4,>=0.1.125->langchain-community) (0.23.0)\n",
      "Requirement already satisfied: annotated-types>=0.4.0 in c:\\users\\likhith\\appdata\\local\\programs\\python\\python39\\lib\\site-packages (from pydantic<3,>=1.9.0->groq) (0.7.0)\n",
      "Requirement already satisfied: pydantic-core==2.18.4 in c:\\users\\likhith\\appdata\\local\\programs\\python\\python39\\lib\\site-packages (from pydantic<3,>=1.9.0->groq) (2.18.4)\n",
      "Requirement already satisfied: python-dotenv>=0.21.0 in c:\\users\\likhith\\appdata\\local\\programs\\python\\python39\\lib\\site-packages (from pydantic-settings<3.0.0,>=2.4.0->langchain-community) (1.0.1)\n",
      "Requirement already satisfied: charset-normalizer<4,>=2 in c:\\users\\likhith\\appdata\\local\\programs\\python\\python39\\lib\\site-packages (from requests<3,>=2->langchain-community) (3.3.2)\n",
      "Requirement already satisfied: urllib3<3,>=1.21.1 in c:\\users\\likhith\\appdata\\local\\programs\\python\\python39\\lib\\site-packages (from requests<3,>=2->langchain-community) (2.3.0)\n",
      "Requirement already satisfied: greenlet!=0.4.17 in c:\\users\\likhith\\appdata\\local\\programs\\python\\python39\\lib\\site-packages (from SQLAlchemy<3,>=1.4->langchain-community) (3.1.1)\n",
      "Requirement already satisfied: jsonpointer>=1.9 in c:\\users\\likhith\\appdata\\local\\programs\\python\\python39\\lib\\site-packages (from jsonpatch<2.0,>=1.33->langchain-core<1.0.0,>=0.3.34->langchain-community) (2.4)\n",
      "Requirement already satisfied: mypy-extensions>=0.3.0 in c:\\users\\likhith\\appdata\\local\\programs\\python\\python39\\lib\\site-packages (from typing-inspect<1,>=0.4.0->dataclasses-json<0.7,>=0.5.7->langchain-community) (1.0.0)\n",
      "Note: you may need to restart the kernel to use updated packages.\n"
     ]
    },
    {
     "name": "stderr",
     "output_type": "stream",
     "text": [
      "WARNING: Ignoring invalid distribution -otebook (c:\\users\\likhith\\appdata\\local\\programs\\python\\python39\\lib\\site-packages)\n",
      "WARNING: Ignoring invalid distribution -upyterlab (c:\\users\\likhith\\appdata\\local\\programs\\python\\python39\\lib\\site-packages)\n",
      "WARNING: Ignoring invalid distribution -otebook (c:\\users\\likhith\\appdata\\local\\programs\\python\\python39\\lib\\site-packages)\n",
      "WARNING: Ignoring invalid distribution -upyterlab (c:\\users\\likhith\\appdata\\local\\programs\\python\\python39\\lib\\site-packages)\n",
      "WARNING: Ignoring invalid distribution -otebook (c:\\users\\likhith\\appdata\\local\\programs\\python\\python39\\lib\\site-packages)\n",
      "WARNING: Ignoring invalid distribution -upyterlab (c:\\users\\likhith\\appdata\\local\\programs\\python\\python39\\lib\\site-packages)\n"
     ]
    }
   ],
   "source": [
    "pip install langchain-community groq\n"
   ]
  },
  {
   "cell_type": "code",
   "execution_count": 100,
   "id": "37afa2cc-92be-485d-8058-51ab5967b5bc",
   "metadata": {
    "scrolled": true
   },
   "outputs": [
    {
     "data": {
      "text/plain": [
       "str"
      ]
     },
     "execution_count": 100,
     "metadata": {},
     "output_type": "execute_result"
    }
   ],
   "source": [
    "from langchain_core.prompts import PromptTemplate\n",
    "\n",
    "prompt_extract = PromptTemplate.from_template(\n",
    "        \"\"\"\n",
    "        ### SCRAPED TEXT FROM WEBSITE:\n",
    "        {page_data}\n",
    "        ### INSTRUCTION:\n",
    "        The scraped text is from the career's page of a website.\n",
    "        Your job is to extract the job postings and return them in JSON format containing the \n",
    "        following keys: `role`, `experience`, `skills` and `description`.\n",
    "        Only return the valid JSON.\n",
    "        ### VALID JSON (NO PREAMBLE):    \n",
    "        \"\"\"\n",
    ")\n",
    "\n",
    "chain_extract = prompt_extract | llm \n",
    "res = chain_extract.invoke(input={'page_data':page_data})\n",
    "type(res.content)"
   ]
  },
  {
   "cell_type": "code",
   "execution_count": 101,
   "id": "3c6f26f2-b129-4a18-9081-888a9c4fd7aa",
   "metadata": {},
   "outputs": [
    {
     "data": {
      "text/plain": [
       "[{'role': 'Software Engineer II, ITC',\n",
       "  'experience': '2-5+ years of hands-on industry software development experience.',\n",
       "  'skills': ['Nodejs',\n",
       "   'Microservice architecture',\n",
       "   'Domain-driven design',\n",
       "   'Service Oriented Architecture principles',\n",
       "   'RESTful APIs',\n",
       "   'Serverless architectures',\n",
       "   'Data governance',\n",
       "   'Data quality',\n",
       "   'Data life cycle management',\n",
       "   'Cloud native distributed system development',\n",
       "   'AWS',\n",
       "   'Dev Ops',\n",
       "   'CI/CD automation',\n",
       "   'Zero Touch deployments',\n",
       "   'TDD methodologies',\n",
       "   'Jest',\n",
       "   'Night watch',\n",
       "   'Cucumber'],\n",
       "  'description': 'Design, develop, and maintain scalable and efficient applications using Node.js. Utilize AWS services to build and deploy cloud-based solutions. Implement Agile methodologies to ensure iterative and incremental development. Develop and maintain CI/CD pipelines to automate the build, test, and deployment processes. Write and maintain unit test cases to ensure code quality and reliability. Collaborate with the design team to create user-friendly and visually appealing interfaces. Monitor application performance and implement improvements as needed. Troubleshoot and resolve technical issues across the full stack. Mentor and guide junior developers, providing technical leadership and code reviews. Stay up-to-date with the latest industry trends and technologies to ensure the team is using the best practices.'}]"
      ]
     },
     "execution_count": 101,
     "metadata": {},
     "output_type": "execute_result"
    }
   ],
   "source": [
    "from langchain_core.output_parsers import JsonOutputParser\n",
    "\n",
    "json_parser = JsonOutputParser()\n",
    "json_res = json_parser.parse(res.content)\n",
    "json_res"
   ]
  },
  {
   "cell_type": "code",
   "execution_count": 107,
   "id": "405f76b5-12fb-42cf-9d82-25eff0c75f67",
   "metadata": {},
   "outputs": [
    {
     "data": {
      "text/plain": [
       "dict"
      ]
     },
     "execution_count": 107,
     "metadata": {},
     "output_type": "execute_result"
    }
   ],
   "source": [
    "# Ensure json_res is a list and has at least one item\n",
    "if isinstance(json_res, list) and len(json_res) > 0:\n",
    "    json_res = json_res[0]  # Extract the first dictionary from the list\n",
    "\n",
    "type(json_res) # Now it should print: <class 'dict'>\n"
   ]
  },
  {
   "cell_type": "code",
   "execution_count": 108,
   "id": "f0a8f573-b50f-4788-9dd5-9f38484e4ecb",
   "metadata": {},
   "outputs": [
    {
     "data": {
      "text/html": [
       "<div>\n",
       "<style scoped>\n",
       "    .dataframe tbody tr th:only-of-type {\n",
       "        vertical-align: middle;\n",
       "    }\n",
       "\n",
       "    .dataframe tbody tr th {\n",
       "        vertical-align: top;\n",
       "    }\n",
       "\n",
       "    .dataframe thead th {\n",
       "        text-align: right;\n",
       "    }\n",
       "</style>\n",
       "<table border=\"1\" class=\"dataframe\">\n",
       "  <thead>\n",
       "    <tr style=\"text-align: right;\">\n",
       "      <th></th>\n",
       "      <th>Techstack</th>\n",
       "      <th>Links</th>\n",
       "    </tr>\n",
       "  </thead>\n",
       "  <tbody>\n",
       "    <tr>\n",
       "      <th>0</th>\n",
       "      <td>React, Node.js, MongoDB</td>\n",
       "      <td>https://example.com/react-portfolio</td>\n",
       "    </tr>\n",
       "    <tr>\n",
       "      <th>1</th>\n",
       "      <td>Angular,.NET, SQL Server</td>\n",
       "      <td>https://example.com/angular-portfolio</td>\n",
       "    </tr>\n",
       "    <tr>\n",
       "      <th>2</th>\n",
       "      <td>Vue.js, Ruby on Rails, PostgreSQL</td>\n",
       "      <td>https://example.com/vue-portfolio</td>\n",
       "    </tr>\n",
       "    <tr>\n",
       "      <th>3</th>\n",
       "      <td>Python, Django, MySQL</td>\n",
       "      <td>https://example.com/python-portfolio</td>\n",
       "    </tr>\n",
       "    <tr>\n",
       "      <th>4</th>\n",
       "      <td>Java, Spring Boot, Oracle</td>\n",
       "      <td>https://example.com/java-portfolio</td>\n",
       "    </tr>\n",
       "    <tr>\n",
       "      <th>5</th>\n",
       "      <td>Flutter, Firebase, GraphQL</td>\n",
       "      <td>https://example.com/flutter-portfolio</td>\n",
       "    </tr>\n",
       "    <tr>\n",
       "      <th>6</th>\n",
       "      <td>WordPress, PHP, MySQL</td>\n",
       "      <td>https://example.com/wordpress-portfolio</td>\n",
       "    </tr>\n",
       "    <tr>\n",
       "      <th>7</th>\n",
       "      <td>Magento, PHP, MySQL</td>\n",
       "      <td>https://example.com/magento-portfolio</td>\n",
       "    </tr>\n",
       "    <tr>\n",
       "      <th>8</th>\n",
       "      <td>React Native, Node.js, MongoDB</td>\n",
       "      <td>https://example.com/react-native-portfolio</td>\n",
       "    </tr>\n",
       "    <tr>\n",
       "      <th>9</th>\n",
       "      <td>iOS, Swift, Core Data</td>\n",
       "      <td>https://example.com/ios-portfolio</td>\n",
       "    </tr>\n",
       "    <tr>\n",
       "      <th>10</th>\n",
       "      <td>Android, Java, Room Persistence</td>\n",
       "      <td>https://example.com/android-portfolio</td>\n",
       "    </tr>\n",
       "    <tr>\n",
       "      <th>11</th>\n",
       "      <td>Kotlin, Android, Firebase</td>\n",
       "      <td>https://example.com/kotlin-android-portfolio</td>\n",
       "    </tr>\n",
       "    <tr>\n",
       "      <th>12</th>\n",
       "      <td>Android TV, Kotlin, Android NDK</td>\n",
       "      <td>https://example.com/android-tv-portfolio</td>\n",
       "    </tr>\n",
       "    <tr>\n",
       "      <th>13</th>\n",
       "      <td>iOS, Swift, ARKit</td>\n",
       "      <td>https://example.com/ios-ar-portfolio</td>\n",
       "    </tr>\n",
       "    <tr>\n",
       "      <th>14</th>\n",
       "      <td>Cross-platform, Xamarin, Azure</td>\n",
       "      <td>https://example.com/xamarin-portfolio</td>\n",
       "    </tr>\n",
       "    <tr>\n",
       "      <th>15</th>\n",
       "      <td>Backend, Kotlin, Spring Boot</td>\n",
       "      <td>https://example.com/kotlin-backend-portfolio</td>\n",
       "    </tr>\n",
       "    <tr>\n",
       "      <th>16</th>\n",
       "      <td>Frontend, TypeScript, Angular</td>\n",
       "      <td>https://example.com/typescript-frontend-portfolio</td>\n",
       "    </tr>\n",
       "    <tr>\n",
       "      <th>17</th>\n",
       "      <td>Full-stack, JavaScript, Express.js</td>\n",
       "      <td>https://example.com/full-stack-js-portfolio</td>\n",
       "    </tr>\n",
       "    <tr>\n",
       "      <th>18</th>\n",
       "      <td>Machine Learning, Python, TensorFlow</td>\n",
       "      <td>https://example.com/ml-python-portfolio</td>\n",
       "    </tr>\n",
       "    <tr>\n",
       "      <th>19</th>\n",
       "      <td>DevOps, Jenkins, Docker</td>\n",
       "      <td>https://example.com/devops-portfolio</td>\n",
       "    </tr>\n",
       "  </tbody>\n",
       "</table>\n",
       "</div>"
      ],
      "text/plain": [
       "                               Techstack  \\\n",
       "0                React, Node.js, MongoDB   \n",
       "1               Angular,.NET, SQL Server   \n",
       "2      Vue.js, Ruby on Rails, PostgreSQL   \n",
       "3                  Python, Django, MySQL   \n",
       "4              Java, Spring Boot, Oracle   \n",
       "5             Flutter, Firebase, GraphQL   \n",
       "6                  WordPress, PHP, MySQL   \n",
       "7                    Magento, PHP, MySQL   \n",
       "8         React Native, Node.js, MongoDB   \n",
       "9                  iOS, Swift, Core Data   \n",
       "10       Android, Java, Room Persistence   \n",
       "11             Kotlin, Android, Firebase   \n",
       "12       Android TV, Kotlin, Android NDK   \n",
       "13                     iOS, Swift, ARKit   \n",
       "14        Cross-platform, Xamarin, Azure   \n",
       "15          Backend, Kotlin, Spring Boot   \n",
       "16         Frontend, TypeScript, Angular   \n",
       "17    Full-stack, JavaScript, Express.js   \n",
       "18  Machine Learning, Python, TensorFlow   \n",
       "19               DevOps, Jenkins, Docker   \n",
       "\n",
       "                                                Links  \n",
       "0                 https://example.com/react-portfolio  \n",
       "1               https://example.com/angular-portfolio  \n",
       "2                   https://example.com/vue-portfolio  \n",
       "3                https://example.com/python-portfolio  \n",
       "4                  https://example.com/java-portfolio  \n",
       "5               https://example.com/flutter-portfolio  \n",
       "6             https://example.com/wordpress-portfolio  \n",
       "7               https://example.com/magento-portfolio  \n",
       "8          https://example.com/react-native-portfolio  \n",
       "9                   https://example.com/ios-portfolio  \n",
       "10              https://example.com/android-portfolio  \n",
       "11       https://example.com/kotlin-android-portfolio  \n",
       "12           https://example.com/android-tv-portfolio  \n",
       "13               https://example.com/ios-ar-portfolio  \n",
       "14              https://example.com/xamarin-portfolio  \n",
       "15       https://example.com/kotlin-backend-portfolio  \n",
       "16  https://example.com/typescript-frontend-portfolio  \n",
       "17        https://example.com/full-stack-js-portfolio  \n",
       "18            https://example.com/ml-python-portfolio  \n",
       "19               https://example.com/devops-portfolio  "
      ]
     },
     "execution_count": 108,
     "metadata": {},
     "output_type": "execute_result"
    }
   ],
   "source": [
    "import pandas as pd\n",
    "\n",
    "df = pd.read_csv(\"my_portfolio.csv\")\n",
    "df"
   ]
  },
  {
   "cell_type": "code",
   "execution_count": 109,
   "id": "c3ef448c-5f61-4c33-94f9-54b0a3e00076",
   "metadata": {},
   "outputs": [],
   "source": [
    "import uuid\n",
    "import chromadb\n",
    "\n",
    "client = chromadb.PersistentClient('vectorstore')\n",
    "collection = client.get_or_create_collection(name=\"portfolio\")\n",
    "\n",
    "if not collection.count():\n",
    "    for _, row in df.iterrows():\n",
    "        collection.add(documents=row[\"Techstack\"],\n",
    "                       metadatas={\"links\": row[\"Links\"]},\n",
    "                       ids=[str(uuid.uuid4())])"
   ]
  },
  {
   "cell_type": "code",
   "execution_count": 111,
   "id": "7be039dc-ebf9-4a3e-97ee-49315272069b",
   "metadata": {},
   "outputs": [
    {
     "data": {
      "text/plain": [
       "[{'role': 'Software Engineer II, ITC',\n",
       "  'experience': '2-5+ years of hands-on industry software development experience.',\n",
       "  'skills': ['Nodejs',\n",
       "   'Microservice architecture',\n",
       "   'Domain-driven design',\n",
       "   'Service Oriented Architecture principles',\n",
       "   'RESTful APIs',\n",
       "   'Serverless architectures',\n",
       "   'Data governance',\n",
       "   'Data quality',\n",
       "   'Data life cycle management',\n",
       "   'Cloud native distributed system development',\n",
       "   'AWS',\n",
       "   'Dev Ops',\n",
       "   'CI/CD automation',\n",
       "   'Zero Touch deployments',\n",
       "   'TDD methodologies',\n",
       "   'Jest',\n",
       "   'Night watch',\n",
       "   'Cucumber'],\n",
       "  'description': 'Design, develop, and maintain scalable and efficient applications using Node.js. Utilize AWS services to build and deploy cloud-based solutions. Implement Agile methodologies to ensure iterative and incremental development. Develop and maintain CI/CD pipelines to automate the build, test, and deployment processes. Write and maintain unit test cases to ensure code quality and reliability. Collaborate with the design team to create user-friendly and visually appealing interfaces. Monitor application performance and implement improvements as needed. Troubleshoot and resolve technical issues across the full stack. Mentor and guide junior developers, providing technical leadership and code reviews. Stay up-to-date with the latest industry trends and technologies to ensure the team is using the best practices.'}]"
      ]
     },
     "execution_count": 111,
     "metadata": {},
     "output_type": "execute_result"
    }
   ],
   "source": [
    "job"
   ]
  },
  {
   "cell_type": "code",
   "execution_count": 112,
   "id": "5cffa28e-58a3-48c0-8d3e-875206e0acae",
   "metadata": {},
   "outputs": [
    {
     "data": {
      "text/plain": [
       "['Nodejs',\n",
       " 'Microservice architecture',\n",
       " 'Domain-driven design',\n",
       " 'Service Oriented Architecture principles',\n",
       " 'RESTful APIs',\n",
       " 'Serverless architectures',\n",
       " 'Data governance',\n",
       " 'Data quality',\n",
       " 'Data life cycle management',\n",
       " 'Cloud native distributed system development',\n",
       " 'AWS',\n",
       " 'Dev Ops',\n",
       " 'CI/CD automation',\n",
       " 'Zero Touch deployments',\n",
       " 'TDD methodologies',\n",
       " 'Jest',\n",
       " 'Night watch',\n",
       " 'Cucumber']"
      ]
     },
     "execution_count": 112,
     "metadata": {},
     "output_type": "execute_result"
    }
   ],
   "source": [
    "job = json_res\n",
    "job['skills']"
   ]
  },
  {
   "cell_type": "code",
   "execution_count": 113,
   "id": "b66f9d1a-6fa7-4282-8841-d71159c042cc",
   "metadata": {},
   "outputs": [
    {
     "data": {
      "text/plain": [
       "[[{'links': 'https://example.com/react-portfolio'},\n",
       "  {'links': 'https://example.com/react-native-portfolio'}],\n",
       " [{'links': 'https://example.com/xamarin-portfolio'},\n",
       "  {'links': 'https://example.com/android-portfolio'}],\n",
       " [{'links': 'https://example.com/android-portfolio'},\n",
       "  {'links': 'https://example.com/kotlin-backend-portfolio'}],\n",
       " [{'links': 'https://example.com/java-portfolio'},\n",
       "  {'links': 'https://example.com/android-portfolio'}],\n",
       " [{'links': 'https://example.com/wordpress-portfolio'},\n",
       "  {'links': 'https://example.com/magento-portfolio'}],\n",
       " [{'links': 'https://example.com/full-stack-js-portfolio'},\n",
       "  {'links': 'https://example.com/angular-portfolio'}],\n",
       " [{'links': 'https://example.com/ios-portfolio'},\n",
       "  {'links': 'https://example.com/flutter-portfolio'}],\n",
       " [{'links': 'https://example.com/ios-portfolio'},\n",
       "  {'links': 'https://example.com/magento-portfolio'}],\n",
       " [{'links': 'https://example.com/flutter-portfolio'},\n",
       "  {'links': 'https://example.com/android-portfolio'}],\n",
       " [{'links': 'https://example.com/xamarin-portfolio'},\n",
       "  {'links': 'https://example.com/devops-portfolio'}],\n",
       " [{'links': 'https://example.com/ios-ar-portfolio'},\n",
       "  {'links': 'https://example.com/wordpress-portfolio'}],\n",
       " [{'links': 'https://example.com/devops-portfolio'},\n",
       "  {'links': 'https://example.com/ios-ar-portfolio'}],\n",
       " [{'links': 'https://example.com/devops-portfolio'},\n",
       "  {'links': 'https://example.com/magento-portfolio'}],\n",
       " [{'links': 'https://example.com/ios-ar-portfolio'},\n",
       "  {'links': 'https://example.com/devops-portfolio'}],\n",
       " [{'links': 'https://example.com/android-tv-portfolio'},\n",
       "  {'links': 'https://example.com/kotlin-backend-portfolio'}],\n",
       " [{'links': 'https://example.com/react-portfolio'},\n",
       "  {'links': 'https://example.com/full-stack-js-portfolio'}],\n",
       " [{'links': 'https://example.com/android-tv-portfolio'},\n",
       "  {'links': 'https://example.com/android-portfolio'}],\n",
       " [{'links': 'https://example.com/vue-portfolio'},\n",
       "  {'links': 'https://example.com/devops-portfolio'}]]"
      ]
     },
     "execution_count": 113,
     "metadata": {},
     "output_type": "execute_result"
    }
   ],
   "source": [
    "links = collection.query(query_texts=job['skills'], n_results=2).get('metadatas', [])\n",
    "links"
   ]
  },
  {
   "cell_type": "code",
   "execution_count": 114,
   "id": "52f59b57-2b78-4807-8049-63b5fdbbd31b",
   "metadata": {},
   "outputs": [
    {
     "name": "stdout",
     "output_type": "stream",
     "text": [
      "Subject: Expert Software Engineering Services for Your ITC Needs\n",
      "\n",
      "Dear [Hiring Manager's Name],\n",
      "\n",
      "I came across your job posting for a Software Engineer II, ITC, and was impressed by the scope of the project. At AtliQ, we specialize in providing tailored software solutions that cater to the unique needs of our clients. Our team of experts has extensive experience in designing, developing, and maintaining scalable and efficient applications using Node.js, Microservice architecture, and Cloud native distributed system development.\n",
      "\n",
      "We have a proven track record of delivering high-quality solutions that meet the highest standards of performance, security, and reliability. Our expertise in AWS, DevOps, CI/CD automation, and Zero Touch deployments ensures that our clients' applications are always available, scalable, and secure.\n",
      "\n",
      "Our team is well-versed in Agile methodologies, TDD, and BDD, ensuring iterative and incremental development. We also have expertise in writing and maintaining unit test cases using Jest and Night Watch, and implementing Cucumber for BDD.\n",
      "\n",
      "Some of our notable projects include:\n",
      "\n",
      "* A cloud-based e-commerce platform built using Node.js, React, and AWS, which resulted in a 30% increase in sales and a 25% reduction in costs. (https://example.com/react-portfolio)\n",
      "* A mobile banking app developed using React Native, which achieved a 4-star rating on the app store and a 20% increase in user engagement. (https://example.com/react-native-portfolio)\n",
      "* A cloud-based CRM system built using Node.js, Angular, and AWS, which resulted in a 25% increase in sales productivity and a 30% reduction in costs. (https://example.com/full-stack-js-portfolio)\n",
      "\n",
      "We believe that our expertise and experience make us an ideal partner for your ITC project. We would be delighted to discuss how we can help you achieve your goals.\n",
      "\n",
      "Please feel free to contact me at [Your Email Address] or [Your Phone Number] to schedule a call.\n",
      "\n",
      "Best regards,\n",
      "\n",
      "Mohan\n",
      "Business Development Executive\n",
      "AtliQ\n"
     ]
    }
   ],
   "source": [
    "prompt_email = PromptTemplate.from_template(\n",
    "        \"\"\"\n",
    "        ### JOB DESCRIPTION:\n",
    "        {job_description}\n",
    "        \n",
    "        ### INSTRUCTION:\n",
    "        You are Mohan, a business development executive at AtliQ. AtliQ is an AI & Software Consulting company dedicated to facilitating\n",
    "        the seamless integration of business processes through automated tools. \n",
    "        Over our experience, we have empowered numerous enterprises with tailored solutions, fostering scalability, \n",
    "        process optimization, cost reduction, and heightened overall efficiency. \n",
    "        Your job is to write a cold email to the client regarding the job mentioned above describing the capability of AtliQ \n",
    "        in fulfilling their needs.\n",
    "        Also add the most relevant ones from the following links to showcase Atliq's portfolio: {link_list}\n",
    "        Remember you are Mohan, BDE at AtliQ. \n",
    "        Do not provide a preamble.\n",
    "        ### EMAIL (NO PREAMBLE):\n",
    "        \n",
    "        \"\"\"\n",
    "        )\n",
    "\n",
    "chain_email = prompt_email | llm\n",
    "res = chain_email.invoke({\"job_description\": str(job), \"link_list\": links})\n",
    "print(res.content)"
   ]
  },
  {
   "cell_type": "code",
   "execution_count": null,
   "id": "6fbcc093-2088-44bc-8f16-88767f0e8702",
   "metadata": {},
   "outputs": [],
   "source": []
  }
 ],
 "metadata": {
  "kernelspec": {
   "display_name": "Python 3 (ipykernel)",
   "language": "python",
   "name": "python3"
  },
  "language_info": {
   "codemirror_mode": {
    "name": "ipython",
    "version": 3
   },
   "file_extension": ".py",
   "mimetype": "text/x-python",
   "name": "python",
   "nbconvert_exporter": "python",
   "pygments_lexer": "ipython3",
   "version": "3.9.7"
  }
 },
 "nbformat": 4,
 "nbformat_minor": 5
}
